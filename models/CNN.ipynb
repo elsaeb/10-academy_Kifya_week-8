{
 "cells": [
  {
   "cell_type": "code",
   "execution_count": 1,
   "id": "065a5d97-b7b3-447c-ae01-6b084763271d",
   "metadata": {},
   "outputs": [],
   "source": [
    "import data_prep"
   ]
  },
  {
   "cell_type": "code",
   "execution_count": 2,
   "id": "7f38a29b-47e2-4463-b8b7-334ab378ab91",
   "metadata": {},
   "outputs": [],
   "source": [
    "from data_prep import X_train_1, X_test_1, y_train_1, y_test_1, X_train_2, X_test_2, y_train_2, y_test_2"
   ]
  },
  {
   "cell_type": "code",
   "execution_count": 3,
   "id": "0eeed8ac-9249-4970-885e-c5dcdd248792",
   "metadata": {},
   "outputs": [
    {
     "name": "stderr",
     "output_type": "stream",
     "text": [
      "2024-10-29 10:10:37.493460: E external/local_xla/xla/stream_executor/cuda/cuda_dnn.cc:9261] Unable to register cuDNN factory: Attempting to register factory for plugin cuDNN when one has already been registered\n",
      "2024-10-29 10:10:37.493745: E external/local_xla/xla/stream_executor/cuda/cuda_fft.cc:607] Unable to register cuFFT factory: Attempting to register factory for plugin cuFFT when one has already been registered\n",
      "2024-10-29 10:10:39.321180: E external/local_xla/xla/stream_executor/cuda/cuda_blas.cc:1515] Unable to register cuBLAS factory: Attempting to register factory for plugin cuBLAS when one has already been registered\n",
      "2024-10-29 10:10:41.004769: I tensorflow/core/platform/cpu_feature_guard.cc:182] This TensorFlow binary is optimized to use available CPU instructions in performance-critical operations.\n",
      "To enable the following instructions: AVX2 FMA, in other operations, rebuild TensorFlow with the appropriate compiler flags.\n",
      "2024-10-29 10:10:53.667959: W tensorflow/compiler/tf2tensorrt/utils/py_utils.cc:38] TF-TRT Warning: Could not find TensorRT\n",
      "2024/10/29 10:11:16 WARNING mlflow.tensorflow: Failed to log training dataset information to MLflow Tracking. Reason: 'Series' object has no attribute 'flatten'\n"
     ]
    },
    {
     "name": "stdout",
     "output_type": "stream",
     "text": [
      "Epoch 1/50\n",
      "   1/1323 [..............................] - ETA: 1:03:25 - loss: 0.6905 - accuracy: 0.4844WARNING:tensorflow:Callback method `on_train_batch_end` is slow compared to the batch time (batch time: 0.0054s vs `on_train_batch_end` time: 0.0107s). Check your callbacks.\n",
      "1323/1323 [==============================] - 14s 9ms/step - loss: 0.2431 - accuracy: 0.9239 - val_loss: 0.2303 - val_accuracy: 0.9322\n",
      "Epoch 2/50\n",
      "  15/1323 [..............................] - ETA: 9s - loss: 0.2221 - accuracy: 0.9385"
     ]
    },
    {
     "name": "stderr",
     "output_type": "stream",
     "text": [
      "/home/elizabeth/anaconda3/lib/python3.11/site-packages/keras/src/engine/training.py:3103: UserWarning: You are saving your model as an HDF5 file via `model.save()`. This file format is considered legacy. We recommend using instead the native Keras format, e.g. `model.save('my_model.keras')`.\n",
      "  saving_api.save_model(\n"
     ]
    },
    {
     "name": "stdout",
     "output_type": "stream",
     "text": [
      "1323/1323 [==============================] - 15s 11ms/step - loss: 0.2190 - accuracy: 0.9393 - val_loss: 0.2156 - val_accuracy: 0.9363\n",
      "Epoch 3/50\n",
      "1323/1323 [==============================] - 17s 13ms/step - loss: 0.2155 - accuracy: 0.9399 - val_loss: 0.2160 - val_accuracy: 0.9397\n",
      "Epoch 4/50\n",
      "1323/1323 [==============================] - 16s 12ms/step - loss: 0.2131 - accuracy: 0.9413 - val_loss: 0.2167 - val_accuracy: 0.9407\n",
      "Epoch 5/50\n",
      "1323/1323 [==============================] - 11s 8ms/step - loss: 0.2114 - accuracy: 0.9422 - val_loss: 0.2079 - val_accuracy: 0.9454\n",
      "Epoch 6/50\n",
      "1323/1323 [==============================] - 11s 8ms/step - loss: 0.2092 - accuracy: 0.9434 - val_loss: 0.2095 - val_accuracy: 0.9457\n",
      "Epoch 7/50\n",
      "1323/1323 [==============================] - 13s 10ms/step - loss: 0.2082 - accuracy: 0.9434 - val_loss: 0.2058 - val_accuracy: 0.9478\n",
      "Epoch 8/50\n",
      "1323/1323 [==============================] - 14s 11ms/step - loss: 0.2066 - accuracy: 0.9444 - val_loss: 0.2053 - val_accuracy: 0.9446\n",
      "Epoch 9/50\n",
      "1323/1323 [==============================] - 11s 9ms/step - loss: 0.2053 - accuracy: 0.9452 - val_loss: 0.2046 - val_accuracy: 0.9451\n",
      "Epoch 10/50\n",
      "1323/1323 [==============================] - 18s 14ms/step - loss: 0.2038 - accuracy: 0.9461 - val_loss: 0.1999 - val_accuracy: 0.9492\n",
      "Epoch 11/50\n",
      "1323/1323 [==============================] - 22s 16ms/step - loss: 0.2028 - accuracy: 0.9464 - val_loss: 0.2146 - val_accuracy: 0.9387\n",
      "Epoch 12/50\n",
      "1323/1323 [==============================] - 14s 10ms/step - loss: 0.2009 - accuracy: 0.9474 - val_loss: 0.2083 - val_accuracy: 0.9403\n",
      "Epoch 13/50\n",
      "1323/1323 [==============================] - 13s 10ms/step - loss: 0.2004 - accuracy: 0.9475 - val_loss: 0.1969 - val_accuracy: 0.9500\n",
      "Epoch 14/50\n",
      "1323/1323 [==============================] - 18s 14ms/step - loss: 0.1993 - accuracy: 0.9479 - val_loss: 0.1999 - val_accuracy: 0.9511\n",
      "Epoch 15/50\n",
      "1323/1323 [==============================] - 14s 11ms/step - loss: 0.1992 - accuracy: 0.9477 - val_loss: 0.2059 - val_accuracy: 0.9448\n",
      "Epoch 16/50\n",
      "1323/1323 [==============================] - 20s 15ms/step - loss: 0.1982 - accuracy: 0.9486 - val_loss: 0.1980 - val_accuracy: 0.9488\n",
      "Epoch 17/50\n",
      "1323/1323 [==============================] - 21s 16ms/step - loss: 0.1977 - accuracy: 0.9485 - val_loss: 0.1965 - val_accuracy: 0.9488\n",
      "Epoch 18/50\n",
      "1323/1323 [==============================] - 14s 10ms/step - loss: 0.1972 - accuracy: 0.9491 - val_loss: 0.1969 - val_accuracy: 0.9489\n",
      "Epoch 19/50\n",
      "1323/1323 [==============================] - 12s 9ms/step - loss: 0.1968 - accuracy: 0.9491 - val_loss: 0.1948 - val_accuracy: 0.9497\n",
      "Epoch 20/50\n",
      "1323/1323 [==============================] - 16s 12ms/step - loss: 0.1957 - accuracy: 0.9492 - val_loss: 0.1967 - val_accuracy: 0.9502\n",
      "Epoch 21/50\n",
      "1323/1323 [==============================] - 12s 9ms/step - loss: 0.1956 - accuracy: 0.9492 - val_loss: 0.1968 - val_accuracy: 0.9490\n",
      "Epoch 22/50\n",
      "1323/1323 [==============================] - 13s 10ms/step - loss: 0.1947 - accuracy: 0.9494 - val_loss: 0.1950 - val_accuracy: 0.9506\n",
      "Epoch 23/50\n",
      "1323/1323 [==============================] - 19s 15ms/step - loss: 0.1944 - accuracy: 0.9499 - val_loss: 0.1958 - val_accuracy: 0.9504\n",
      "Epoch 24/50\n",
      "1323/1323 [==============================] - 22s 17ms/step - loss: 0.1939 - accuracy: 0.9498 - val_loss: 0.1988 - val_accuracy: 0.9507\n",
      "Epoch 25/50\n",
      "1323/1323 [==============================] - 22s 16ms/step - loss: 0.1934 - accuracy: 0.9501 - val_loss: 0.1928 - val_accuracy: 0.9510\n",
      "Epoch 26/50\n",
      "1323/1323 [==============================] - 16s 12ms/step - loss: 0.1929 - accuracy: 0.9504 - val_loss: 0.1947 - val_accuracy: 0.9501\n",
      "Epoch 27/50\n",
      "1323/1323 [==============================] - 14s 10ms/step - loss: 0.1924 - accuracy: 0.9504 - val_loss: 0.1938 - val_accuracy: 0.9507\n",
      "Epoch 28/50\n",
      "1323/1323 [==============================] - 23s 18ms/step - loss: 0.1922 - accuracy: 0.9504 - val_loss: 0.1912 - val_accuracy: 0.9513\n",
      "Epoch 29/50\n",
      "1323/1323 [==============================] - 19s 14ms/step - loss: 0.1919 - accuracy: 0.9506 - val_loss: 0.1928 - val_accuracy: 0.9507\n",
      "Epoch 30/50\n",
      "1323/1323 [==============================] - 17s 13ms/step - loss: 0.1909 - accuracy: 0.9511 - val_loss: 0.1935 - val_accuracy: 0.9503\n",
      "Epoch 31/50\n",
      "1323/1323 [==============================] - 18s 14ms/step - loss: 0.1911 - accuracy: 0.9510 - val_loss: 0.1916 - val_accuracy: 0.9510\n",
      "Epoch 32/50\n",
      "1323/1323 [==============================] - 20s 15ms/step - loss: 0.1906 - accuracy: 0.9510 - val_loss: 0.1974 - val_accuracy: 0.9487\n",
      "Epoch 33/50\n",
      "1323/1323 [==============================] - 12s 9ms/step - loss: 0.1902 - accuracy: 0.9510 - val_loss: 0.1917 - val_accuracy: 0.9516\n",
      "Epoch 34/50\n",
      "1323/1323 [==============================] - 12s 9ms/step - loss: 0.1895 - accuracy: 0.9515 - val_loss: 0.1908 - val_accuracy: 0.9519\n",
      "Epoch 35/50\n",
      "1323/1323 [==============================] - 12s 9ms/step - loss: 0.1891 - accuracy: 0.9515 - val_loss: 0.1925 - val_accuracy: 0.9510\n",
      "Epoch 36/50\n",
      "1323/1323 [==============================] - 12s 9ms/step - loss: 0.1888 - accuracy: 0.9518 - val_loss: 0.1913 - val_accuracy: 0.9510\n",
      "Epoch 37/50\n",
      "1323/1323 [==============================] - 15s 11ms/step - loss: 0.1892 - accuracy: 0.9512 - val_loss: 0.1923 - val_accuracy: 0.9510\n",
      "Epoch 38/50\n",
      "1323/1323 [==============================] - 13s 10ms/step - loss: 0.1881 - accuracy: 0.9520 - val_loss: 0.1910 - val_accuracy: 0.9530\n",
      "Epoch 39/50\n",
      "1323/1323 [==============================] - 12s 9ms/step - loss: 0.1881 - accuracy: 0.9518 - val_loss: 0.1903 - val_accuracy: 0.9527\n",
      "Epoch 40/50\n",
      "1323/1323 [==============================] - 19s 15ms/step - loss: 0.1878 - accuracy: 0.9522 - val_loss: 0.1894 - val_accuracy: 0.9518\n",
      "Epoch 41/50\n",
      "1323/1323 [==============================] - 19s 14ms/step - loss: 0.1873 - accuracy: 0.9521 - val_loss: 0.1926 - val_accuracy: 0.9523\n",
      "Epoch 42/50\n",
      "1323/1323 [==============================] - 12s 9ms/step - loss: 0.1870 - accuracy: 0.9522 - val_loss: 0.1917 - val_accuracy: 0.9516\n",
      "Epoch 43/50\n",
      "1323/1323 [==============================] - 12s 9ms/step - loss: 0.1871 - accuracy: 0.9522 - val_loss: 0.1929 - val_accuracy: 0.9514\n",
      "Epoch 44/50\n",
      "1323/1323 [==============================] - 12s 9ms/step - loss: 0.1864 - accuracy: 0.9524 - val_loss: 0.1919 - val_accuracy: 0.9516\n",
      "Epoch 45/50\n",
      "1323/1323 [==============================] - 12s 9ms/step - loss: 0.1865 - accuracy: 0.9522 - val_loss: 0.1994 - val_accuracy: 0.9481\n",
      "Epoch 46/50\n",
      "1323/1323 [==============================] - 14s 10ms/step - loss: 0.1858 - accuracy: 0.9527 - val_loss: 0.1928 - val_accuracy: 0.9524\n",
      "Epoch 47/50\n",
      "1323/1323 [==============================] - 17s 13ms/step - loss: 0.1853 - accuracy: 0.9527 - val_loss: 0.1921 - val_accuracy: 0.9522\n",
      "Epoch 48/50\n",
      "1323/1323 [==============================] - 13s 10ms/step - loss: 0.1857 - accuracy: 0.9527 - val_loss: 0.1889 - val_accuracy: 0.9527\n",
      "Epoch 49/50\n",
      "1323/1323 [==============================] - 12s 9ms/step - loss: 0.1849 - accuracy: 0.9526 - val_loss: 0.1899 - val_accuracy: 0.9537\n",
      "Epoch 50/50\n",
      "1323/1323 [==============================] - 13s 9ms/step - loss: 0.1848 - accuracy: 0.9528 - val_loss: 0.1921 - val_accuracy: 0.9517\n",
      "1/1 [==============================] - 0s 496ms/step\n",
      "INFO:tensorflow:Assets written to: /tmp/tmpxc4pscdz/model/data/model/assets\n"
     ]
    },
    {
     "name": "stderr",
     "output_type": "stream",
     "text": [
      "INFO:tensorflow:Assets written to: /tmp/tmpxc4pscdz/model/data/model/assets\n"
     ]
    },
    {
     "name": "stdout",
     "output_type": "stream",
     "text": [
      "1417/1417 [==============================] - 5s 3ms/step - loss: 0.1929 - accuracy: 0.9522\n",
      "fraud Dataset - CNN Accuracy: 0.9521551132202148\n"
     ]
    },
    {
     "name": "stderr",
     "output_type": "stream",
     "text": [
      "2024/10/29 10:25:27 WARNING mlflow.tensorflow: Failed to log training dataset information to MLflow Tracking. Reason: 'Series' object has no attribute 'flatten'\n"
     ]
    },
    {
     "name": "stdout",
     "output_type": "stream",
     "text": [
      "Epoch 1/50\n",
      "   6/2493 [..............................] - ETA: 26s - loss: 0.5238 - accuracy: 0.8307        WARNING:tensorflow:Callback method `on_train_batch_end` is slow compared to the batch time (batch time: 0.0080s vs `on_train_batch_end` time: 0.0088s). Check your callbacks.\n"
     ]
    },
    {
     "name": "stderr",
     "output_type": "stream",
     "text": [
      "WARNING:tensorflow:Callback method `on_train_batch_end` is slow compared to the batch time (batch time: 0.0080s vs `on_train_batch_end` time: 0.0088s). Check your callbacks.\n"
     ]
    },
    {
     "name": "stdout",
     "output_type": "stream",
     "text": [
      "2493/2493 [==============================] - 29s 11ms/step - loss: 0.0093 - accuracy: 0.9983 - val_loss: 0.0046 - val_accuracy: 0.9990\n",
      "Epoch 2/50\n",
      "  11/2493 [..............................] - ETA: 27s - loss: 9.2139e-05 - accuracy: 1.0000"
     ]
    },
    {
     "name": "stderr",
     "output_type": "stream",
     "text": [
      "/home/elizabeth/anaconda3/lib/python3.11/site-packages/keras/src/engine/training.py:3103: UserWarning: You are saving your model as an HDF5 file via `model.save()`. This file format is considered legacy. We recommend using instead the native Keras format, e.g. `model.save('my_model.keras')`.\n",
      "  saving_api.save_model(\n"
     ]
    },
    {
     "name": "stdout",
     "output_type": "stream",
     "text": [
      "2493/2493 [==============================] - 26s 11ms/step - loss: 0.0036 - accuracy: 0.9993 - val_loss: 0.0038 - val_accuracy: 0.9993\n",
      "Epoch 3/50\n",
      "2493/2493 [==============================] - 34s 14ms/step - loss: 0.0033 - accuracy: 0.9994 - val_loss: 0.0049 - val_accuracy: 0.9991\n",
      "Epoch 4/50\n",
      "2493/2493 [==============================] - 35s 14ms/step - loss: 0.0031 - accuracy: 0.9993 - val_loss: 0.0038 - val_accuracy: 0.9992\n",
      "Epoch 5/50\n",
      "2493/2493 [==============================] - 48s 19ms/step - loss: 0.0031 - accuracy: 0.9994 - val_loss: 0.0036 - val_accuracy: 0.9993\n",
      "Epoch 6/50\n",
      "2493/2493 [==============================] - 33s 13ms/step - loss: 0.0030 - accuracy: 0.9994 - val_loss: 0.0038 - val_accuracy: 0.9992\n",
      "Epoch 7/50\n",
      "2493/2493 [==============================] - 33s 13ms/step - loss: 0.0029 - accuracy: 0.9994 - val_loss: 0.0038 - val_accuracy: 0.9994\n",
      "Epoch 8/50\n",
      "2493/2493 [==============================] - 33s 13ms/step - loss: 0.0028 - accuracy: 0.9995 - val_loss: 0.0035 - val_accuracy: 0.9994\n",
      "Epoch 9/50\n",
      "2493/2493 [==============================] - 37s 15ms/step - loss: 0.0028 - accuracy: 0.9994 - val_loss: 0.0047 - val_accuracy: 0.9990\n",
      "Epoch 10/50\n",
      "2493/2493 [==============================] - 37s 15ms/step - loss: 0.0028 - accuracy: 0.9994 - val_loss: 0.0037 - val_accuracy: 0.9994\n",
      "Epoch 11/50\n",
      "2493/2493 [==============================] - 40s 16ms/step - loss: 0.0028 - accuracy: 0.9995 - val_loss: 0.0032 - val_accuracy: 0.9993\n",
      "Epoch 12/50\n",
      "2493/2493 [==============================] - 45s 18ms/step - loss: 0.0027 - accuracy: 0.9995 - val_loss: 0.0033 - val_accuracy: 0.9993\n",
      "Epoch 13/50\n",
      "2493/2493 [==============================] - 37s 15ms/step - loss: 0.0027 - accuracy: 0.9994 - val_loss: 0.0031 - val_accuracy: 0.9994\n",
      "Epoch 14/50\n",
      "2493/2493 [==============================] - 33s 13ms/step - loss: 0.0026 - accuracy: 0.9994 - val_loss: 0.0032 - val_accuracy: 0.9994\n",
      "Epoch 15/50\n",
      "2493/2493 [==============================] - 33s 13ms/step - loss: 0.0026 - accuracy: 0.9995 - val_loss: 0.0033 - val_accuracy: 0.9995\n",
      "Epoch 16/50\n",
      "2493/2493 [==============================] - 35s 14ms/step - loss: 0.0026 - accuracy: 0.9995 - val_loss: 0.0036 - val_accuracy: 0.9995\n",
      "Epoch 17/50\n",
      "2493/2493 [==============================] - 32s 13ms/step - loss: 0.0025 - accuracy: 0.9995 - val_loss: 0.0033 - val_accuracy: 0.9994\n",
      "Epoch 18/50\n",
      "2493/2493 [==============================] - 29s 12ms/step - loss: 0.0026 - accuracy: 0.9994 - val_loss: 0.0031 - val_accuracy: 0.9995\n",
      "Epoch 19/50\n",
      "2493/2493 [==============================] - 38s 15ms/step - loss: 0.0026 - accuracy: 0.9995 - val_loss: 0.0033 - val_accuracy: 0.9993\n",
      "Epoch 20/50\n",
      "2493/2493 [==============================] - 34s 14ms/step - loss: 0.0026 - accuracy: 0.9995 - val_loss: 0.0032 - val_accuracy: 0.9995\n",
      "Epoch 21/50\n",
      "2493/2493 [==============================] - 34s 13ms/step - loss: 0.0026 - accuracy: 0.9995 - val_loss: 0.0032 - val_accuracy: 0.9992\n",
      "Epoch 22/50\n",
      "2493/2493 [==============================] - 35s 14ms/step - loss: 0.0026 - accuracy: 0.9995 - val_loss: 0.0029 - val_accuracy: 0.9995\n",
      "Epoch 23/50\n",
      "2493/2493 [==============================] - 33s 13ms/step - loss: 0.0025 - accuracy: 0.9995 - val_loss: 0.0033 - val_accuracy: 0.9995\n",
      "Epoch 24/50\n",
      "2493/2493 [==============================] - 36s 14ms/step - loss: 0.0025 - accuracy: 0.9995 - val_loss: 0.0034 - val_accuracy: 0.9994\n",
      "Epoch 25/50\n",
      "2493/2493 [==============================] - 36s 14ms/step - loss: 0.0024 - accuracy: 0.9995 - val_loss: 0.0035 - val_accuracy: 0.9992\n",
      "Epoch 26/50\n",
      "2493/2493 [==============================] - 34s 14ms/step - loss: 0.0025 - accuracy: 0.9995 - val_loss: 0.0030 - val_accuracy: 0.9994\n",
      "Epoch 27/50\n",
      "2493/2493 [==============================] - 36s 14ms/step - loss: 0.0025 - accuracy: 0.9995 - val_loss: 0.0032 - val_accuracy: 0.9993\n",
      "Epoch 28/50\n",
      "2493/2493 [==============================] - 33s 13ms/step - loss: 0.0024 - accuracy: 0.9995 - val_loss: 0.0033 - val_accuracy: 0.9993\n",
      "Epoch 29/50\n",
      "2493/2493 [==============================] - 34s 14ms/step - loss: 0.0024 - accuracy: 0.9995 - val_loss: 0.0030 - val_accuracy: 0.9995\n",
      "Epoch 30/50\n",
      "2493/2493 [==============================] - 34s 13ms/step - loss: 0.0024 - accuracy: 0.9995 - val_loss: 0.0031 - val_accuracy: 0.9995\n",
      "Epoch 31/50\n",
      "2493/2493 [==============================] - 34s 13ms/step - loss: 0.0024 - accuracy: 0.9995 - val_loss: 0.0030 - val_accuracy: 0.9995\n",
      "Epoch 32/50\n",
      "2493/2493 [==============================] - 37s 15ms/step - loss: 0.0024 - accuracy: 0.9996 - val_loss: 0.0031 - val_accuracy: 0.9995\n",
      "Epoch 33/50\n",
      "2493/2493 [==============================] - 58s 23ms/step - loss: 0.0024 - accuracy: 0.9996 - val_loss: 0.0031 - val_accuracy: 0.9995\n",
      "Epoch 34/50\n",
      "2493/2493 [==============================] - 59s 24ms/step - loss: 0.0023 - accuracy: 0.9996 - val_loss: 0.0033 - val_accuracy: 0.9994\n",
      "Epoch 35/50\n",
      "2493/2493 [==============================] - 61s 24ms/step - loss: 0.0024 - accuracy: 0.9995 - val_loss: 0.0034 - val_accuracy: 0.9995\n",
      "Epoch 36/50\n",
      "2493/2493 [==============================] - 60s 24ms/step - loss: 0.0023 - accuracy: 0.9996 - val_loss: 0.0036 - val_accuracy: 0.9995\n",
      "Epoch 37/50\n",
      "2493/2493 [==============================] - 61s 25ms/step - loss: 0.0024 - accuracy: 0.9995 - val_loss: 0.0029 - val_accuracy: 0.9995\n",
      "Epoch 38/50\n",
      "2493/2493 [==============================] - 60s 24ms/step - loss: 0.0023 - accuracy: 0.9996 - val_loss: 0.0030 - val_accuracy: 0.9995\n",
      "Epoch 39/50\n",
      "2493/2493 [==============================] - 51s 21ms/step - loss: 0.0023 - accuracy: 0.9995 - val_loss: 0.0030 - val_accuracy: 0.9995\n",
      "Epoch 40/50\n",
      "2493/2493 [==============================] - 41s 16ms/step - loss: 0.0022 - accuracy: 0.9996 - val_loss: 0.0035 - val_accuracy: 0.9993\n",
      "Epoch 41/50\n",
      "2493/2493 [==============================] - 50s 20ms/step - loss: 0.0023 - accuracy: 0.9996 - val_loss: 0.0033 - val_accuracy: 0.9994\n",
      "Epoch 42/50\n",
      "2493/2493 [==============================] - 47s 19ms/step - loss: 0.0023 - accuracy: 0.9996 - val_loss: 0.0031 - val_accuracy: 0.9994\n",
      "Epoch 43/50\n",
      "2493/2493 [==============================] - 36s 14ms/step - loss: 0.0022 - accuracy: 0.9996 - val_loss: 0.0031 - val_accuracy: 0.9995\n",
      "Epoch 44/50\n",
      "2493/2493 [==============================] - 36s 14ms/step - loss: 0.0022 - accuracy: 0.9995 - val_loss: 0.0031 - val_accuracy: 0.9994\n",
      "Epoch 45/50\n",
      "2493/2493 [==============================] - 37s 15ms/step - loss: 0.0022 - accuracy: 0.9996 - val_loss: 0.0032 - val_accuracy: 0.9995\n",
      "Epoch 46/50\n",
      "2493/2493 [==============================] - 50s 20ms/step - loss: 0.0022 - accuracy: 0.9996 - val_loss: 0.0032 - val_accuracy: 0.9994\n",
      "Epoch 47/50\n",
      "2493/2493 [==============================] - 54s 22ms/step - loss: 0.0022 - accuracy: 0.9996 - val_loss: 0.0031 - val_accuracy: 0.9993\n",
      "Epoch 48/50\n",
      "2493/2493 [==============================] - 54s 22ms/step - loss: 0.0022 - accuracy: 0.9996 - val_loss: 0.0032 - val_accuracy: 0.9994\n",
      "Epoch 49/50\n",
      "2493/2493 [==============================] - 54s 22ms/step - loss: 0.0022 - accuracy: 0.9996 - val_loss: 0.0031 - val_accuracy: 0.9995\n",
      "Epoch 50/50\n",
      "2493/2493 [==============================] - 52s 21ms/step - loss: 0.0022 - accuracy: 0.9996 - val_loss: 0.0030 - val_accuracy: 0.9995\n",
      "1/1 [==============================] - 7s 7s/step\n",
      "INFO:tensorflow:Assets written to: /tmp/tmpx9we0me3/model/data/model/assets\n"
     ]
    },
    {
     "name": "stderr",
     "output_type": "stream",
     "text": [
      "INFO:tensorflow:Assets written to: /tmp/tmpx9we0me3/model/data/model/assets\n",
      "2024/10/29 11:04:19 WARNING mlflow.utils.environment: Encountered an unexpected error while inferring pip requirements (model URI: /tmp/tmpx9we0me3/model, flavor: tensorflow). Fall back to return ['tensorflow==2.15.0', 'cloudpickle==2.2.1']. Set logging level to DEBUG to see the full traceback. \n"
     ]
    },
    {
     "name": "stdout",
     "output_type": "stream",
     "text": [
      "2671/2671 [==============================] - 13s 5ms/step - loss: 0.0034 - accuracy: 0.9994\n",
      "credit Dataset - CNN Accuracy: 0.9994031190872192\n"
     ]
    }
   ],
   "source": [
    "import tensorflow as tf\n",
    "from tensorflow.keras.models import Sequential\n",
    "from tensorflow.keras.layers import Conv1D, MaxPooling1D, Flatten, Dense\n",
    "import mlflow\n",
    "import mlflow.tensorflow\n",
    "import numpy as np\n",
    "# Define CNN model\n",
    "def cnn_model(input_shape):\n",
    "    model = Sequential([\n",
    "        Conv1D(filters=64, kernel_size=3, activation='relu', input_shape=input_shape),\n",
    "        MaxPooling1D(pool_size=2),\n",
    "        Flatten(),\n",
    "        Dense(100, activation='relu'),\n",
    "        Dense(1, activation='sigmoid')\n",
    "    ])\n",
    "    model.compile(optimizer='adam', loss='binary_crossentropy', metrics=['accuracy'])\n",
    "    return model\n",
    "\n",
    "def train_cnn_model(X_train, y_train, X_test, y_test, dataset_name):\n",
    "    # Reshape data for CNN\n",
    "    X_train_cnn = np.array(X_train).reshape((X_train.shape[0], X_train.shape[1], 1))\n",
    "    X_test_cnn = np.array(X_test).reshape((X_test.shape[0], X_test.shape[1], 1))\n",
    "    \n",
    "    with mlflow.start_run(run_name=f\"CNN Training on {dataset_name}\"):\n",
    "       \n",
    "        mlflow.tensorflow.autolog()\n",
    "       \n",
    "        model = cnn_model(input_shape=(X_train.shape[1], 1))\n",
    "        model.fit(X_train_cnn, y_train, epochs=50, batch_size=64, validation_split=0.2, verbose=1)\n",
    "        \n",
    "        # Evaluate the model\n",
    "        cnn_loss, cnn_acc = model.evaluate(X_test_cnn, y_test)\n",
    "        \n",
    "        print(f\"{dataset_name} - CNN Accuracy:\", cnn_acc)\n",
    "        \n",
    "    return model\n",
    "\n",
    "# Training and fine-tuning\n",
    "# Train on the fraud dataset\n",
    "cnn_model_1 = train_cnn_model(X_train_1, y_train_1, X_test_1, y_test_1, \"fraud Dataset\")\n",
    "\n",
    "# Fine-tune on the credit dataset\n",
    "cnn_model_2 = train_cnn_model(X_train_2, y_train_2, X_test_2, y_test_2, \"credit Dataset\")\n"
   ]
  },
  {
   "cell_type": "code",
   "execution_count": null,
   "id": "6863e6f0-a960-4126-9ec2-e69bcfc5dc3e",
   "metadata": {},
   "outputs": [],
   "source": []
  }
 ],
 "metadata": {
  "kernelspec": {
   "display_name": "Anaconda Environment",
   "language": "python",
   "name": "anaconda_env"
  },
  "language_info": {
   "codemirror_mode": {
    "name": "ipython",
    "version": 3
   },
   "file_extension": ".py",
   "mimetype": "text/x-python",
   "name": "python",
   "nbconvert_exporter": "python",
   "pygments_lexer": "ipython3",
   "version": "3.11.7"
  }
 },
 "nbformat": 4,
 "nbformat_minor": 5
}
