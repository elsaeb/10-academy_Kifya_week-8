{
 "cells": [
  {
   "cell_type": "code",
   "execution_count": 1,
   "id": "e02b0687-aed4-45bd-b2e3-eebb794cd6f3",
   "metadata": {},
   "outputs": [],
   "source": [
    "import data_prep"
   ]
  },
  {
   "cell_type": "code",
   "execution_count": 2,
   "id": "324a4a3b-570b-4e1d-81e3-40af4ebc0834",
   "metadata": {},
   "outputs": [],
   "source": [
    "from data_prep import X_train_1, X_test_1, y_train_1, y_test_1, X_train_2, X_test_2, y_train_2, y_test_2"
   ]
  },
  {
   "cell_type": "code",
   "execution_count": 3,
   "id": "32168146-6afc-4106-85ac-1201ae24e87a",
   "metadata": {},
   "outputs": [
    {
     "name": "stderr",
     "output_type": "stream",
     "text": [
      "2024-10-30 10:44:09.100612: E external/local_xla/xla/stream_executor/cuda/cuda_dnn.cc:9261] Unable to register cuDNN factory: Attempting to register factory for plugin cuDNN when one has already been registered\n",
      "2024-10-30 10:44:09.100815: E external/local_xla/xla/stream_executor/cuda/cuda_fft.cc:607] Unable to register cuFFT factory: Attempting to register factory for plugin cuFFT when one has already been registered\n",
      "2024-10-30 10:44:09.584216: E external/local_xla/xla/stream_executor/cuda/cuda_blas.cc:1515] Unable to register cuBLAS factory: Attempting to register factory for plugin cuBLAS when one has already been registered\n",
      "2024-10-30 10:44:10.982386: I tensorflow/core/platform/cpu_feature_guard.cc:182] This TensorFlow binary is optimized to use available CPU instructions in performance-critical operations.\n",
      "To enable the following instructions: AVX2 FMA, in other operations, rebuild TensorFlow with the appropriate compiler flags.\n",
      "2024-10-30 10:44:23.896725: W tensorflow/compiler/tf2tensorrt/utils/py_utils.cc:38] TF-TRT Warning: Could not find TensorRT\n"
     ]
    },
    {
     "name": "stdout",
     "output_type": "stream",
     "text": [
      "Epoch 1/50\n",
      "1653/1653 [==============================] - 52s 27ms/step - loss: 0.2656 - accuracy: 0.9086\n",
      "Epoch 2/50\n",
      "1653/1653 [==============================] - 47s 28ms/step - loss: 0.2340 - accuracy: 0.9258\n",
      "Epoch 3/50\n",
      "1653/1653 [==============================] - 39s 23ms/step - loss: 0.2213 - accuracy: 0.9365\n",
      "Epoch 4/50\n",
      "1653/1653 [==============================] - 40s 24ms/step - loss: 0.2137 - accuracy: 0.9422\n",
      "Epoch 5/50\n",
      "1653/1653 [==============================] - 40s 24ms/step - loss: 0.2100 - accuracy: 0.9433\n",
      "Epoch 6/50\n",
      "1653/1653 [==============================] - 40s 24ms/step - loss: 0.2071 - accuracy: 0.9442\n",
      "Epoch 7/50\n",
      "1653/1653 [==============================] - 42s 25ms/step - loss: 0.2036 - accuracy: 0.9459\n",
      "Epoch 8/50\n",
      "1653/1653 [==============================] - 53s 32ms/step - loss: 0.1991 - accuracy: 0.9479\n",
      "Epoch 9/50\n",
      "1653/1653 [==============================] - 54s 33ms/step - loss: 0.1946 - accuracy: 0.9497\n",
      "Epoch 10/50\n",
      "1653/1653 [==============================] - 68s 41ms/step - loss: 0.1923 - accuracy: 0.9512\n",
      "Epoch 11/50\n",
      "1653/1653 [==============================] - 67s 40ms/step - loss: 0.1901 - accuracy: 0.9521\n",
      "Epoch 12/50\n",
      "1653/1653 [==============================] - 80s 48ms/step - loss: 0.1889 - accuracy: 0.9525\n",
      "Epoch 13/50\n",
      "1653/1653 [==============================] - 70s 42ms/step - loss: 0.1877 - accuracy: 0.9529\n",
      "Epoch 14/50\n",
      "1653/1653 [==============================] - 62s 38ms/step - loss: 0.1861 - accuracy: 0.9538\n",
      "Epoch 15/50\n",
      "1653/1653 [==============================] - 70s 42ms/step - loss: 0.1861 - accuracy: 0.9536\n",
      "Epoch 16/50\n",
      "1653/1653 [==============================] - 63s 38ms/step - loss: 0.1864 - accuracy: 0.9536\n",
      "Epoch 17/50\n",
      "1653/1653 [==============================] - 68s 41ms/step - loss: 0.1852 - accuracy: 0.9541\n",
      "Epoch 18/50\n",
      "1653/1653 [==============================] - 77s 47ms/step - loss: 0.1854 - accuracy: 0.9541\n",
      "Epoch 19/50\n",
      "1653/1653 [==============================] - 65s 40ms/step - loss: 0.1849 - accuracy: 0.9541\n",
      "Epoch 20/50\n",
      "1653/1653 [==============================] - 71s 43ms/step - loss: 0.1845 - accuracy: 0.9542\n",
      "Epoch 21/50\n",
      "1653/1653 [==============================] - 69s 42ms/step - loss: 0.1839 - accuracy: 0.9547\n",
      "Epoch 22/50\n",
      "1653/1653 [==============================] - 55s 33ms/step - loss: 0.1832 - accuracy: 0.9550\n",
      "Epoch 23/50\n",
      "1653/1653 [==============================] - 36s 22ms/step - loss: 0.1843 - accuracy: 0.9545\n",
      "Epoch 24/50\n",
      "1653/1653 [==============================] - 35s 21ms/step - loss: 0.1834 - accuracy: 0.9548\n",
      "Epoch 25/50\n",
      "1653/1653 [==============================] - 35s 21ms/step - loss: 0.1837 - accuracy: 0.9547\n",
      "Epoch 26/50\n",
      "1653/1653 [==============================] - 36s 22ms/step - loss: 0.1835 - accuracy: 0.9548\n",
      "Epoch 27/50\n",
      "1653/1653 [==============================] - 38s 23ms/step - loss: 0.1835 - accuracy: 0.9548\n",
      "Epoch 28/50\n",
      "1653/1653 [==============================] - 38s 23ms/step - loss: 0.1828 - accuracy: 0.9551\n",
      "Epoch 29/50\n",
      "1653/1653 [==============================] - 41s 25ms/step - loss: 0.1833 - accuracy: 0.9548\n",
      "Epoch 30/50\n",
      "1653/1653 [==============================] - 47s 29ms/step - loss: 0.1829 - accuracy: 0.9550\n",
      "Epoch 31/50\n",
      "1653/1653 [==============================] - 44s 27ms/step - loss: 0.1826 - accuracy: 0.9550\n",
      "Epoch 32/50\n",
      "1653/1653 [==============================] - 39s 23ms/step - loss: 0.1830 - accuracy: 0.9548\n",
      "Epoch 33/50\n",
      "1653/1653 [==============================] - 51s 31ms/step - loss: 0.1825 - accuracy: 0.9550\n",
      "Epoch 34/50\n",
      "1653/1653 [==============================] - 44s 27ms/step - loss: 0.1826 - accuracy: 0.9550\n",
      "Epoch 35/50\n",
      "1653/1653 [==============================] - 39s 23ms/step - loss: 0.1822 - accuracy: 0.9552\n",
      "Epoch 36/50\n",
      "1653/1653 [==============================] - 48s 29ms/step - loss: 0.1827 - accuracy: 0.9550\n",
      "Epoch 37/50\n",
      "1653/1653 [==============================] - 47s 29ms/step - loss: 0.1827 - accuracy: 0.9549\n",
      "Epoch 38/50\n",
      "1653/1653 [==============================] - 33s 20ms/step - loss: 0.1821 - accuracy: 0.9553\n",
      "Epoch 39/50\n",
      "1653/1653 [==============================] - 33s 20ms/step - loss: 0.1826 - accuracy: 0.9550\n",
      "Epoch 40/50\n",
      "1653/1653 [==============================] - 33s 20ms/step - loss: 0.1822 - accuracy: 0.9552\n",
      "Epoch 41/50\n",
      "1653/1653 [==============================] - 33s 20ms/step - loss: 0.1819 - accuracy: 0.9553\n",
      "Epoch 42/50\n",
      "1653/1653 [==============================] - 33s 20ms/step - loss: 0.1825 - accuracy: 0.9550\n",
      "Epoch 43/50\n",
      "1653/1653 [==============================] - 33s 20ms/step - loss: 0.1819 - accuracy: 0.9553\n",
      "Epoch 44/50\n",
      "1653/1653 [==============================] - 34s 20ms/step - loss: 0.1822 - accuracy: 0.9552\n",
      "Epoch 45/50\n",
      "1653/1653 [==============================] - 34s 21ms/step - loss: 0.1819 - accuracy: 0.9553\n",
      "Epoch 46/50\n",
      "1653/1653 [==============================] - 34s 21ms/step - loss: 0.1828 - accuracy: 0.9549\n",
      "Epoch 47/50\n",
      "1653/1653 [==============================] - 32s 20ms/step - loss: 0.1817 - accuracy: 0.9553\n",
      "Epoch 48/50\n",
      "1653/1653 [==============================] - 36s 22ms/step - loss: 0.1826 - accuracy: 0.9550\n",
      "Epoch 49/50\n",
      "1653/1653 [==============================] - 39s 24ms/step - loss: 0.1816 - accuracy: 0.9554\n",
      "Epoch 50/50\n",
      "1653/1653 [==============================] - 38s 23ms/step - loss: 0.1818 - accuracy: 0.9553\n",
      "1417/1417 [==============================] - 16s 7ms/step - loss: 0.1834 - accuracy: 0.9551\n"
     ]
    },
    {
     "name": "stderr",
     "output_type": "stream",
     "text": [
      "2024/10/30 11:24:14 WARNING mlflow.tensorflow: You are saving a TensorFlow Core model or Keras model without a signature. Inference with mlflow.pyfunc.spark_udf() will not work unless the model's pyfunc representation accepts pandas DataFrames as inference inputs.\n"
     ]
    },
    {
     "name": "stdout",
     "output_type": "stream",
     "text": [
      "INFO:tensorflow:Assets written to: /tmp/tmpwvnnencb/model/data/model/assets\n"
     ]
    },
    {
     "name": "stderr",
     "output_type": "stream",
     "text": [
      "INFO:tensorflow:Assets written to: /tmp/tmpwvnnencb/model/data/model/assets\n",
      "2024/10/30 11:25:43 WARNING mlflow.models.model: Model logged without a signature and input example. Please set `input_example` parameter when logging the model to auto infer the model signature.\n"
     ]
    },
    {
     "name": "stdout",
     "output_type": "stream",
     "text": [
      "LSTM_Model_fraud_Data: LSTM Accuracy = 0.9551109671592712, Loss = 0.18340985476970673\n",
      "Epoch 1/50\n"
     ]
    },
    {
     "name": "stderr",
     "output_type": "stream",
     "text": [
      "2024-10-30 11:25:44.831815: W external/local_tsl/tsl/framework/cpu_allocator_impl.cc:83] Allocation of 23923680 exceeds 10% of free system memory.\n"
     ]
    },
    {
     "name": "stdout",
     "output_type": "stream",
     "text": [
      "3116/3116 [==============================] - 94s 29ms/step - loss: 0.0152 - accuracy: 0.9983\n",
      "Epoch 2/50\n",
      "3116/3116 [==============================] - 95s 31ms/step - loss: 0.0128 - accuracy: 0.9983\n",
      "Epoch 3/50\n",
      "3116/3116 [==============================] - 91s 29ms/step - loss: 0.0128 - accuracy: 0.9983\n",
      "Epoch 4/50\n",
      "3116/3116 [==============================] - 91s 29ms/step - loss: 0.0127 - accuracy: 0.9983\n",
      "Epoch 5/50\n",
      "3116/3116 [==============================] - 91s 29ms/step - loss: 0.0128 - accuracy: 0.9983\n",
      "Epoch 6/50\n",
      "3116/3116 [==============================] - 91s 29ms/step - loss: 0.0128 - accuracy: 0.9983\n",
      "Epoch 7/50\n",
      "3116/3116 [==============================] - 92s 30ms/step - loss: 0.0128 - accuracy: 0.9983\n",
      "Epoch 8/50\n",
      "3116/3116 [==============================] - 92s 30ms/step - loss: 0.0127 - accuracy: 0.9983\n",
      "Epoch 9/50\n",
      "3116/3116 [==============================] - 92s 29ms/step - loss: 0.0127 - accuracy: 0.9983\n",
      "Epoch 10/50\n",
      "3116/3116 [==============================] - 92s 30ms/step - loss: 0.0128 - accuracy: 0.9983\n",
      "Epoch 11/50\n",
      "3116/3116 [==============================] - 92s 30ms/step - loss: 0.0128 - accuracy: 0.9983\n",
      "Epoch 12/50\n",
      "3116/3116 [==============================] - 93s 30ms/step - loss: 0.0127 - accuracy: 0.9983\n",
      "Epoch 13/50\n",
      "3116/3116 [==============================] - 93s 30ms/step - loss: 0.0127 - accuracy: 0.9983\n",
      "Epoch 14/50\n",
      "3116/3116 [==============================] - 93s 30ms/step - loss: 0.0127 - accuracy: 0.9983\n",
      "Epoch 15/50\n",
      "3116/3116 [==============================] - 93s 30ms/step - loss: 0.0128 - accuracy: 0.9983\n",
      "Epoch 16/50\n",
      "3116/3116 [==============================] - 93s 30ms/step - loss: 0.0127 - accuracy: 0.9983\n",
      "Epoch 17/50\n",
      "3116/3116 [==============================] - 94s 30ms/step - loss: 0.0127 - accuracy: 0.9983\n",
      "Epoch 18/50\n",
      "3116/3116 [==============================] - 94s 30ms/step - loss: 0.0127 - accuracy: 0.9983\n",
      "Epoch 19/50\n",
      "3116/3116 [==============================] - 93s 30ms/step - loss: 0.0127 - accuracy: 0.9983\n",
      "Epoch 20/50\n",
      "3116/3116 [==============================] - 94s 30ms/step - loss: 0.0128 - accuracy: 0.9983\n",
      "Epoch 21/50\n",
      "3116/3116 [==============================] - 94s 30ms/step - loss: 0.0127 - accuracy: 0.9983\n",
      "Epoch 22/50\n",
      "3116/3116 [==============================] - 94s 30ms/step - loss: 0.0127 - accuracy: 0.9983\n",
      "Epoch 23/50\n",
      "3116/3116 [==============================] - 95s 30ms/step - loss: 0.0127 - accuracy: 0.9983\n",
      "Epoch 24/50\n",
      "3116/3116 [==============================] - 94s 30ms/step - loss: 0.0128 - accuracy: 0.9983\n",
      "Epoch 25/50\n",
      "3116/3116 [==============================] - 94s 30ms/step - loss: 0.0128 - accuracy: 0.9983\n",
      "Epoch 26/50\n",
      "3116/3116 [==============================] - 95s 30ms/step - loss: 0.0128 - accuracy: 0.9983\n",
      "Epoch 27/50\n",
      "3116/3116 [==============================] - 95s 30ms/step - loss: 0.0128 - accuracy: 0.9983\n",
      "Epoch 28/50\n",
      "3116/3116 [==============================] - 96s 31ms/step - loss: 0.0128 - accuracy: 0.9983\n",
      "Epoch 29/50\n",
      "3116/3116 [==============================] - 96s 31ms/step - loss: 0.0128 - accuracy: 0.9983\n",
      "Epoch 30/50\n",
      "3116/3116 [==============================] - 96s 31ms/step - loss: 0.0128 - accuracy: 0.9983\n",
      "Epoch 31/50\n",
      "3116/3116 [==============================] - 95s 31ms/step - loss: 0.0127 - accuracy: 0.9983\n",
      "Epoch 32/50\n",
      "3116/3116 [==============================] - 96s 31ms/step - loss: 0.0128 - accuracy: 0.9983\n",
      "Epoch 33/50\n",
      "3116/3116 [==============================] - 96s 31ms/step - loss: 0.0127 - accuracy: 0.9983\n",
      "Epoch 34/50\n",
      "3116/3116 [==============================] - 96s 31ms/step - loss: 0.0128 - accuracy: 0.9983\n",
      "Epoch 35/50\n",
      "3116/3116 [==============================] - 96s 31ms/step - loss: 0.0127 - accuracy: 0.9983\n",
      "Epoch 36/50\n",
      "3116/3116 [==============================] - 97s 31ms/step - loss: 0.0127 - accuracy: 0.9983\n",
      "Epoch 37/50\n",
      "3116/3116 [==============================] - 97s 31ms/step - loss: 0.0127 - accuracy: 0.9983\n",
      "Epoch 38/50\n",
      "3116/3116 [==============================] - 97s 31ms/step - loss: 0.0128 - accuracy: 0.9983\n",
      "Epoch 39/50\n",
      "3116/3116 [==============================] - 97s 31ms/step - loss: 0.0127 - accuracy: 0.9983\n",
      "Epoch 40/50\n",
      "3116/3116 [==============================] - 97s 31ms/step - loss: 0.0128 - accuracy: 0.9983\n",
      "Epoch 41/50\n",
      "3116/3116 [==============================] - 97s 31ms/step - loss: 0.0127 - accuracy: 0.9983\n",
      "Epoch 42/50\n",
      "3116/3116 [==============================] - 98s 31ms/step - loss: 0.0128 - accuracy: 0.9983\n",
      "Epoch 43/50\n",
      "3116/3116 [==============================] - 97s 31ms/step - loss: 0.0128 - accuracy: 0.9983\n",
      "Epoch 44/50\n",
      "3116/3116 [==============================] - 98s 31ms/step - loss: 0.0128 - accuracy: 0.9983\n",
      "Epoch 45/50\n",
      "3116/3116 [==============================] - 98s 32ms/step - loss: 0.0127 - accuracy: 0.9983\n",
      "Epoch 46/50\n",
      "3116/3116 [==============================] - 98s 31ms/step - loss: 0.0127 - accuracy: 0.9983\n",
      "Epoch 47/50\n",
      "3116/3116 [==============================] - 131s 42ms/step - loss: 0.0128 - accuracy: 0.9983\n",
      "Epoch 48/50\n",
      "3116/3116 [==============================] - 162s 52ms/step - loss: 0.0127 - accuracy: 0.9983\n",
      "Epoch 49/50\n",
      "3116/3116 [==============================] - 145s 47ms/step - loss: 0.0127 - accuracy: 0.9983\n",
      "Epoch 50/50\n",
      "3116/3116 [==============================] - 147s 47ms/step - loss: 0.0128 - accuracy: 0.9983\n",
      "2671/2671 [==============================] - 41s 15ms/step - loss: 0.0128 - accuracy: 0.9983\n"
     ]
    },
    {
     "name": "stderr",
     "output_type": "stream",
     "text": [
      "2024/10/30 12:48:44 WARNING mlflow.tensorflow: You are saving a TensorFlow Core model or Keras model without a signature. Inference with mlflow.pyfunc.spark_udf() will not work unless the model's pyfunc representation accepts pandas DataFrames as inference inputs.\n"
     ]
    },
    {
     "name": "stdout",
     "output_type": "stream",
     "text": [
      "INFO:tensorflow:Assets written to: /tmp/tmptyoq4p09/model/data/model/assets\n"
     ]
    },
    {
     "name": "stderr",
     "output_type": "stream",
     "text": [
      "INFO:tensorflow:Assets written to: /tmp/tmptyoq4p09/model/data/model/assets\n",
      "2024/10/30 12:51:21 WARNING mlflow.models.model: Model logged without a signature and input example. Please set `input_example` parameter when logging the model to auto infer the model signature.\n"
     ]
    },
    {
     "name": "stdout",
     "output_type": "stream",
     "text": [
      "LSTM_Model_credit_data: LSTM Accuracy = 0.9982678294181824, Loss = 0.012758081778883934\n"
     ]
    },
    {
     "data": {
      "text/plain": [
       "<keras.src.engine.sequential.Sequential at 0x7d03595c5bd0>"
      ]
     },
     "execution_count": 3,
     "metadata": {},
     "output_type": "execute_result"
    }
   ],
   "source": [
    "import mlflow\n",
    "import mlflow.keras\n",
    "from tensorflow.keras.models import Sequential\n",
    "from tensorflow.keras.layers import LSTM, Dense\n",
    "from sklearn.metrics import accuracy_score\n",
    "\n",
    "def train_lstm_model(X_train, y_train, X_test, y_test, run_name):\n",
    "    with mlflow.start_run(run_name=run_name):\n",
    "        # LSTM model\n",
    "        lstm_model = Sequential([\n",
    "            LSTM(50, input_shape=(X_train.shape[1], 1)),\n",
    "            Dense(1, activation='sigmoid')\n",
    "        ])\n",
    "       \n",
    "        lstm_model.compile(optimizer='adam', loss='binary_crossentropy', metrics=['accuracy'])\n",
    "        \n",
    "        lstm_model.fit(X_train, y_train, epochs=50, batch_size=64, verbose=1)\n",
    "        \n",
    "        lstm_loss, lstm_acc = lstm_model.evaluate(X_test, y_test)\n",
    "        \n",
    "        # Log metrics\n",
    "        mlflow.log_metric(\"accuracy\", lstm_acc)\n",
    "        mlflow.log_metric(\"loss\", lstm_loss)\n",
    "        \n",
    "        # Log model\n",
    "        mlflow.keras.log_model(lstm_model, \"LSTM_model\")\n",
    "        \n",
    "        print(f\"{run_name}: LSTM Accuracy = {lstm_acc}, Loss = {lstm_loss}\")\n",
    "    return lstm_model\n",
    "\n",
    "# Train on the fraud dataset\n",
    "X_train_1_reshaped = X_train_1.values.reshape(-1, X_train_1.shape[1], 1)\n",
    "X_test_1_reshaped = X_test_1.values.reshape(-1, X_test_1.shape[1], 1)\n",
    "train_lstm_model(X_train_1_reshaped, y_train_1, X_test_1_reshaped, y_test_1, \"LSTM_Model_fraud_Data\")\n",
    "\n",
    "# Train on the credit dataset\n",
    "X_train_2_reshaped = X_train_2.values.reshape(-1, X_train_2.shape[1], 1)\n",
    "X_test_2_reshaped = X_test_2.values.reshape(-1, X_test_2.shape[1], 1)\n",
    "train_lstm_model(X_train_2_reshaped, y_train_2, X_test_2_reshaped, y_test_2, \"LSTM_Model_credit_data\")\n"
   ]
  },
  {
   "cell_type": "code",
   "execution_count": 1,
   "id": "3ff0c283-71aa-4b84-a34e-ffc10c5c4ba7",
   "metadata": {},
   "outputs": [
    {
     "name": "stdout",
     "output_type": "stream",
     "text": [
      "Requirement already satisfied: shap in /home/elizabeth/anaconda3/lib/python3.11/site-packages (0.46.0)\n",
      "Requirement already satisfied: numpy in /home/elizabeth/anaconda3/lib/python3.11/site-packages (from shap) (1.26.4)\n",
      "Requirement already satisfied: scipy in /home/elizabeth/anaconda3/lib/python3.11/site-packages (from shap) (1.13.1)\n",
      "Requirement already satisfied: scikit-learn in /home/elizabeth/anaconda3/lib/python3.11/site-packages (from shap) (1.5.1)\n",
      "Requirement already satisfied: pandas in /home/elizabeth/anaconda3/lib/python3.11/site-packages (from shap) (2.1.4)\n",
      "Requirement already satisfied: tqdm>=4.27.0 in /home/elizabeth/anaconda3/lib/python3.11/site-packages (from shap) (4.66.5)\n",
      "Requirement already satisfied: packaging>20.9 in /home/elizabeth/anaconda3/lib/python3.11/site-packages (from shap) (23.1)\n",
      "Requirement already satisfied: slicer==0.0.8 in /home/elizabeth/anaconda3/lib/python3.11/site-packages (from shap) (0.0.8)\n",
      "Requirement already satisfied: numba in /home/elizabeth/anaconda3/lib/python3.11/site-packages (from shap) (0.59.0)\n",
      "Requirement already satisfied: cloudpickle in /home/elizabeth/anaconda3/lib/python3.11/site-packages (from shap) (2.2.1)\n",
      "Requirement already satisfied: llvmlite<0.43,>=0.42.0dev0 in /home/elizabeth/anaconda3/lib/python3.11/site-packages (from numba->shap) (0.42.0)\n",
      "Requirement already satisfied: python-dateutil>=2.8.2 in /home/elizabeth/anaconda3/lib/python3.11/site-packages (from pandas->shap) (2.8.2)\n",
      "Requirement already satisfied: pytz>=2020.1 in /home/elizabeth/anaconda3/lib/python3.11/site-packages (from pandas->shap) (2023.3.post1)\n",
      "Requirement already satisfied: tzdata>=2022.1 in /home/elizabeth/anaconda3/lib/python3.11/site-packages (from pandas->shap) (2023.3)\n",
      "Requirement already satisfied: joblib>=1.2.0 in /home/elizabeth/anaconda3/lib/python3.11/site-packages (from scikit-learn->shap) (1.2.0)\n",
      "Requirement already satisfied: threadpoolctl>=3.1.0 in /home/elizabeth/anaconda3/lib/python3.11/site-packages (from scikit-learn->shap) (3.5.0)\n",
      "Requirement already satisfied: six>=1.5 in /home/elizabeth/anaconda3/lib/python3.11/site-packages (from python-dateutil>=2.8.2->pandas->shap) (1.16.0)\n",
      "Note: you may need to restart the kernel to use updated packages.\n"
     ]
    }
   ],
   "source": [
    "pip install shap"
   ]
  },
  {
   "cell_type": "code",
   "execution_count": null,
   "id": "21d3fac5-7e42-4715-a529-4f0609b0291c",
   "metadata": {},
   "outputs": [],
   "source": []
  }
 ],
 "metadata": {
  "kernelspec": {
   "display_name": "Anaconda Environment",
   "language": "python",
   "name": "anaconda_env"
  },
  "language_info": {
   "codemirror_mode": {
    "name": "ipython",
    "version": 3
   },
   "file_extension": ".py",
   "mimetype": "text/x-python",
   "name": "python",
   "nbconvert_exporter": "python",
   "pygments_lexer": "ipython3",
   "version": "3.11.7"
  }
 },
 "nbformat": 4,
 "nbformat_minor": 5
}
