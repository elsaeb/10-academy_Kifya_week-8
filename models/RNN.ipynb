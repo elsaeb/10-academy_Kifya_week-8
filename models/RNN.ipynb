{
 "cells": [
  {
   "cell_type": "code",
   "execution_count": 1,
   "id": "50d6d9a4-9f28-4e08-ad03-476d57e56976",
   "metadata": {},
   "outputs": [],
   "source": [
    "import data_prep"
   ]
  },
  {
   "cell_type": "code",
   "execution_count": 2,
   "id": "12d41420-7d09-45fb-87bb-3c12f0288faf",
   "metadata": {},
   "outputs": [],
   "source": [
    "from data_prep import X_train_1, X_test_1, y_train_1, y_test_1, X_train_2, X_test_2, y_train_2, y_test_2"
   ]
  },
  {
   "cell_type": "code",
   "execution_count": 3,
   "id": "bd6e771a-3788-43be-adc1-e7c597ebd96b",
   "metadata": {},
   "outputs": [
    {
     "name": "stderr",
     "output_type": "stream",
     "text": [
      "2024-10-29 14:24:21.600554: E external/local_xla/xla/stream_executor/cuda/cuda_dnn.cc:9261] Unable to register cuDNN factory: Attempting to register factory for plugin cuDNN when one has already been registered\n",
      "2024-10-29 14:24:21.600921: E external/local_xla/xla/stream_executor/cuda/cuda_fft.cc:607] Unable to register cuFFT factory: Attempting to register factory for plugin cuFFT when one has already been registered\n",
      "2024-10-29 14:24:22.250582: E external/local_xla/xla/stream_executor/cuda/cuda_blas.cc:1515] Unable to register cuBLAS factory: Attempting to register factory for plugin cuBLAS when one has already been registered\n",
      "2024-10-29 14:24:24.316083: I tensorflow/core/platform/cpu_feature_guard.cc:182] This TensorFlow binary is optimized to use available CPU instructions in performance-critical operations.\n",
      "To enable the following instructions: AVX2 FMA, in other operations, rebuild TensorFlow with the appropriate compiler flags.\n",
      "2024-10-29 14:24:40.474811: W tensorflow/compiler/tf2tensorrt/utils/py_utils.cc:38] TF-TRT Warning: Could not find TensorRT\n"
     ]
    },
    {
     "name": "stdout",
     "output_type": "stream",
     "text": [
      "Epoch 1/50\n",
      "1653/1653 [==============================] - 16s 7ms/step - loss: 0.2647 - accuracy: 0.9071\n",
      "Epoch 2/50\n",
      "1653/1653 [==============================] - 14s 9ms/step - loss: 0.2325 - accuracy: 0.9352\n",
      "Epoch 3/50\n",
      "1653/1653 [==============================] - 15s 9ms/step - loss: 0.2214 - accuracy: 0.9424\n",
      "Epoch 4/50\n",
      "1653/1653 [==============================] - 15s 9ms/step - loss: 0.2163 - accuracy: 0.9443\n",
      "Epoch 5/50\n",
      "1653/1653 [==============================] - 15s 9ms/step - loss: 0.2129 - accuracy: 0.9447\n",
      "Epoch 6/50\n",
      "1653/1653 [==============================] - 15s 9ms/step - loss: 0.2105 - accuracy: 0.9452\n",
      "Epoch 7/50\n",
      "1653/1653 [==============================] - 17s 10ms/step - loss: 0.2095 - accuracy: 0.9453\n",
      "Epoch 8/50\n",
      "1653/1653 [==============================] - 24s 14ms/step - loss: 0.2078 - accuracy: 0.9454\n",
      "Epoch 9/50\n",
      "1653/1653 [==============================] - 26s 16ms/step - loss: 0.2055 - accuracy: 0.9464\n",
      "Epoch 10/50\n",
      "1653/1653 [==============================] - 23s 14ms/step - loss: 0.2053 - accuracy: 0.9465\n",
      "Epoch 11/50\n",
      "1653/1653 [==============================] - 20s 12ms/step - loss: 0.2029 - accuracy: 0.9477\n",
      "Epoch 12/50\n",
      "1653/1653 [==============================] - 22s 13ms/step - loss: 0.2015 - accuracy: 0.9486\n",
      "Epoch 13/50\n",
      "1653/1653 [==============================] - 20s 12ms/step - loss: 0.1996 - accuracy: 0.9494\n",
      "Epoch 14/50\n",
      "1653/1653 [==============================] - 20s 12ms/step - loss: 0.1984 - accuracy: 0.9499\n",
      "Epoch 15/50\n",
      "1653/1653 [==============================] - 20s 12ms/step - loss: 0.1972 - accuracy: 0.9504\n",
      "Epoch 16/50\n",
      "1653/1653 [==============================] - 20s 12ms/step - loss: 0.1958 - accuracy: 0.9508\n",
      "Epoch 17/50\n",
      "1653/1653 [==============================] - 21s 13ms/step - loss: 0.1950 - accuracy: 0.9507\n",
      "Epoch 18/50\n",
      "1653/1653 [==============================] - 21s 13ms/step - loss: 0.1937 - accuracy: 0.9514\n",
      "Epoch 19/50\n",
      "1653/1653 [==============================] - 20s 12ms/step - loss: 0.1929 - accuracy: 0.9518\n",
      "Epoch 20/50\n",
      "1653/1653 [==============================] - 21s 13ms/step - loss: 0.1914 - accuracy: 0.9523\n",
      "Epoch 21/50\n",
      "1653/1653 [==============================] - 20s 12ms/step - loss: 0.1906 - accuracy: 0.9526\n",
      "Epoch 22/50\n",
      "1653/1653 [==============================] - 22s 13ms/step - loss: 0.1894 - accuracy: 0.9534\n",
      "Epoch 23/50\n",
      "1653/1653 [==============================] - 20s 12ms/step - loss: 0.1895 - accuracy: 0.9535\n",
      "Epoch 24/50\n",
      "1653/1653 [==============================] - 20s 12ms/step - loss: 0.1891 - accuracy: 0.9534\n",
      "Epoch 25/50\n",
      "1653/1653 [==============================] - 21s 13ms/step - loss: 0.1881 - accuracy: 0.9537\n",
      "Epoch 26/50\n",
      "1653/1653 [==============================] - 20s 12ms/step - loss: 0.1885 - accuracy: 0.9535\n",
      "Epoch 27/50\n",
      "1653/1653 [==============================] - 21s 12ms/step - loss: 0.1875 - accuracy: 0.9540\n",
      "Epoch 28/50\n",
      "1653/1653 [==============================] - 20s 12ms/step - loss: 0.1882 - accuracy: 0.9536\n",
      "Epoch 29/50\n",
      "1653/1653 [==============================] - 20s 12ms/step - loss: 0.1873 - accuracy: 0.9542\n",
      "Epoch 30/50\n",
      "1653/1653 [==============================] - 20s 12ms/step - loss: 0.1865 - accuracy: 0.9546\n",
      "Epoch 31/50\n",
      "1653/1653 [==============================] - 20s 12ms/step - loss: 0.1864 - accuracy: 0.9545\n",
      "Epoch 32/50\n",
      "1653/1653 [==============================] - 21s 12ms/step - loss: 0.1862 - accuracy: 0.9547\n",
      "Epoch 33/50\n",
      "1653/1653 [==============================] - 21s 13ms/step - loss: 0.1855 - accuracy: 0.9547\n",
      "Epoch 34/50\n",
      "1653/1653 [==============================] - 20s 12ms/step - loss: 0.1856 - accuracy: 0.9547\n",
      "Epoch 35/50\n",
      "1653/1653 [==============================] - 17s 10ms/step - loss: 0.1858 - accuracy: 0.9546\n",
      "Epoch 36/50\n",
      "1653/1653 [==============================] - 16s 10ms/step - loss: 0.1857 - accuracy: 0.9546\n",
      "Epoch 37/50\n",
      "1653/1653 [==============================] - 17s 10ms/step - loss: 0.1854 - accuracy: 0.9549\n",
      "Epoch 38/50\n",
      "1653/1653 [==============================] - 16s 10ms/step - loss: 0.1855 - accuracy: 0.9548\n",
      "Epoch 39/50\n",
      "1653/1653 [==============================] - 16s 10ms/step - loss: 0.1864 - accuracy: 0.9542\n",
      "Epoch 40/50\n",
      "1653/1653 [==============================] - 17s 10ms/step - loss: 0.1849 - accuracy: 0.9547\n",
      "Epoch 41/50\n",
      "1653/1653 [==============================] - 16s 10ms/step - loss: 0.1852 - accuracy: 0.9547\n",
      "Epoch 42/50\n",
      "1653/1653 [==============================] - 16s 10ms/step - loss: 0.1850 - accuracy: 0.9547\n",
      "Epoch 43/50\n",
      "1653/1653 [==============================] - 18s 11ms/step - loss: 0.1849 - accuracy: 0.9549\n",
      "Epoch 44/50\n",
      "1653/1653 [==============================] - 18s 11ms/step - loss: 0.1841 - accuracy: 0.9552\n",
      "Epoch 45/50\n",
      "1653/1653 [==============================] - 19s 11ms/step - loss: 0.1850 - accuracy: 0.9547\n",
      "Epoch 46/50\n",
      "1653/1653 [==============================] - 24s 15ms/step - loss: 0.1843 - accuracy: 0.9549\n",
      "Epoch 47/50\n",
      "1653/1653 [==============================] - 25s 15ms/step - loss: 0.1840 - accuracy: 0.9551\n",
      "Epoch 48/50\n",
      "1653/1653 [==============================] - 23s 14ms/step - loss: 0.1843 - accuracy: 0.9551\n",
      "Epoch 49/50\n",
      "1653/1653 [==============================] - 23s 14ms/step - loss: 0.1842 - accuracy: 0.9549\n",
      "Epoch 50/50\n",
      "1653/1653 [==============================] - 23s 14ms/step - loss: 0.1841 - accuracy: 0.9549\n",
      "1417/1417 [==============================] - 10s 7ms/step - loss: 0.1869 - accuracy: 0.9549\n"
     ]
    },
    {
     "name": "stderr",
     "output_type": "stream",
     "text": [
      "2024/10/29 14:41:21 WARNING mlflow.tensorflow: You are saving a TensorFlow Core model or Keras model without a signature. Inference with mlflow.pyfunc.spark_udf() will not work unless the model's pyfunc representation accepts pandas DataFrames as inference inputs.\n"
     ]
    },
    {
     "name": "stdout",
     "output_type": "stream",
     "text": [
      "INFO:tensorflow:Assets written to: /tmp/tmpmbvqcbvx/model/data/model/assets\n"
     ]
    },
    {
     "name": "stderr",
     "output_type": "stream",
     "text": [
      "INFO:tensorflow:Assets written to: /tmp/tmpmbvqcbvx/model/data/model/assets\n",
      "2024/10/29 14:42:29 WARNING mlflow.models.model: Model logged without a signature and input example. Please set `input_example` parameter when logging the model to auto infer the model signature.\n"
     ]
    },
    {
     "name": "stdout",
     "output_type": "stream",
     "text": [
      "RNN_Model_fraud_data: RNN Accuracy = 0.9548683166503906, Loss = 0.18692128360271454\n"
     ]
    },
    {
     "name": "stderr",
     "output_type": "stream",
     "text": [
      "2024-10-29 14:42:29.744046: W external/local_tsl/tsl/framework/cpu_allocator_impl.cc:83] Allocation of 23923680 exceeds 10% of free system memory.\n"
     ]
    },
    {
     "name": "stdout",
     "output_type": "stream",
     "text": [
      "Epoch 1/50\n",
      "3116/3116 [==============================] - 51s 15ms/step - loss: 0.0187 - accuracy: 0.9973\n",
      "Epoch 2/50\n",
      "3116/3116 [==============================] - 53s 17ms/step - loss: 0.0134 - accuracy: 0.9983\n",
      "Epoch 3/50\n",
      "3116/3116 [==============================] - 60s 19ms/step - loss: 0.0163 - accuracy: 0.9983\n",
      "Epoch 4/50\n",
      "3116/3116 [==============================] - 52s 17ms/step - loss: 0.0121 - accuracy: 0.9983\n",
      "Epoch 5/50\n",
      "3116/3116 [==============================] - 50s 16ms/step - loss: 0.0072 - accuracy: 0.9983\n",
      "Epoch 6/50\n",
      "3116/3116 [==============================] - 50s 16ms/step - loss: 0.0058 - accuracy: 0.9988\n",
      "Epoch 7/50\n",
      "3116/3116 [==============================] - 43s 14ms/step - loss: 0.0075 - accuracy: 0.9986\n",
      "Epoch 8/50\n",
      "3116/3116 [==============================] - 44s 14ms/step - loss: 0.0063 - accuracy: 0.9987\n",
      "Epoch 9/50\n",
      "3116/3116 [==============================] - 55s 18ms/step - loss: 0.0113 - accuracy: 0.9962\n",
      "Epoch 10/50\n",
      "3116/3116 [==============================] - 60s 19ms/step - loss: 0.0051 - accuracy: 0.9990\n",
      "Epoch 11/50\n",
      "3116/3116 [==============================] - 60s 19ms/step - loss: 0.0053 - accuracy: 0.9990\n",
      "Epoch 12/50\n",
      "3116/3116 [==============================] - 61s 19ms/step - loss: 0.0044 - accuracy: 0.9992\n",
      "Epoch 13/50\n",
      "3116/3116 [==============================] - 63s 20ms/step - loss: 0.0048 - accuracy: 0.9991\n",
      "Epoch 14/50\n",
      "3116/3116 [==============================] - 64s 21ms/step - loss: 0.0042 - accuracy: 0.9992\n",
      "Epoch 15/50\n",
      "3116/3116 [==============================] - 63s 20ms/step - loss: 0.0040 - accuracy: 0.9992\n",
      "Epoch 16/50\n",
      "3116/3116 [==============================] - 48s 16ms/step - loss: 0.0038 - accuracy: 0.9993\n",
      "Epoch 17/50\n",
      "3116/3116 [==============================] - 59s 19ms/step - loss: 0.0044 - accuracy: 0.9992\n",
      "Epoch 18/50\n",
      "3116/3116 [==============================] - 59s 19ms/step - loss: 0.0040 - accuracy: 0.9992\n",
      "Epoch 19/50\n",
      "3116/3116 [==============================] - 63s 20ms/step - loss: 0.0038 - accuracy: 0.9993\n",
      "Epoch 20/50\n",
      "3116/3116 [==============================] - 60s 19ms/step - loss: 0.0044 - accuracy: 0.9991\n",
      "Epoch 21/50\n",
      "3116/3116 [==============================] - 59s 19ms/step - loss: 0.0040 - accuracy: 0.9993\n",
      "Epoch 22/50\n",
      "3116/3116 [==============================] - 80s 26ms/step - loss: 0.0045 - accuracy: 0.9992\n",
      "Epoch 23/50\n",
      "3116/3116 [==============================] - 54s 17ms/step - loss: 0.0046 - accuracy: 0.9991\n",
      "Epoch 24/50\n",
      "3116/3116 [==============================] - 54s 17ms/step - loss: 0.0045 - accuracy: 0.9991\n",
      "Epoch 25/50\n",
      "3116/3116 [==============================] - 55s 18ms/step - loss: 0.0038 - accuracy: 0.9993\n",
      "Epoch 26/50\n",
      "3116/3116 [==============================] - 61s 20ms/step - loss: 0.0041 - accuracy: 0.9992\n",
      "Epoch 27/50\n",
      "3116/3116 [==============================] - 59s 19ms/step - loss: 0.0043 - accuracy: 0.9992\n",
      "Epoch 28/50\n",
      "3116/3116 [==============================] - 54s 17ms/step - loss: 0.0039 - accuracy: 0.9993\n",
      "Epoch 29/50\n",
      "3116/3116 [==============================] - 53s 17ms/step - loss: 0.0043 - accuracy: 0.9992\n",
      "Epoch 30/50\n",
      "3116/3116 [==============================] - 53s 17ms/step - loss: 0.0041 - accuracy: 0.9993\n",
      "Epoch 31/50\n",
      "3116/3116 [==============================] - 56s 18ms/step - loss: 0.0035 - accuracy: 0.9993\n",
      "Epoch 32/50\n",
      "3116/3116 [==============================] - 56s 18ms/step - loss: 0.0045 - accuracy: 0.9991\n",
      "Epoch 33/50\n",
      "3116/3116 [==============================] - 58s 19ms/step - loss: 0.0041 - accuracy: 0.9992\n",
      "Epoch 34/50\n",
      "3116/3116 [==============================] - 57s 18ms/step - loss: 0.0039 - accuracy: 0.9992\n",
      "Epoch 35/50\n",
      "3116/3116 [==============================] - 57s 18ms/step - loss: 0.0036 - accuracy: 0.9993\n",
      "Epoch 36/50\n",
      "3116/3116 [==============================] - 57s 18ms/step - loss: 0.0039 - accuracy: 0.9992\n",
      "Epoch 37/50\n",
      "3116/3116 [==============================] - 55s 18ms/step - loss: 0.0037 - accuracy: 0.9993\n",
      "Epoch 38/50\n",
      "3116/3116 [==============================] - 58s 19ms/step - loss: 0.0038 - accuracy: 0.9993\n",
      "Epoch 39/50\n",
      "3116/3116 [==============================] - 60s 19ms/step - loss: 0.0036 - accuracy: 0.9993\n",
      "Epoch 40/50\n",
      "3116/3116 [==============================] - 51s 16ms/step - loss: 0.0036 - accuracy: 0.9993\n",
      "Epoch 41/50\n",
      "3116/3116 [==============================] - 52s 17ms/step - loss: 0.0038 - accuracy: 0.9992\n",
      "Epoch 42/50\n",
      "3116/3116 [==============================] - 45s 15ms/step - loss: 0.0045 - accuracy: 0.9991\n",
      "Epoch 43/50\n",
      "3116/3116 [==============================] - 46s 15ms/step - loss: 0.0036 - accuracy: 0.9993\n",
      "Epoch 44/50\n",
      "3116/3116 [==============================] - 47s 15ms/step - loss: 0.0041 - accuracy: 0.9992\n",
      "Epoch 45/50\n",
      "3116/3116 [==============================] - 46s 15ms/step - loss: 0.0039 - accuracy: 0.9992\n",
      "Epoch 46/50\n",
      "3116/3116 [==============================] - 47s 15ms/step - loss: 0.0039 - accuracy: 0.9992\n",
      "Epoch 47/50\n",
      "3116/3116 [==============================] - 48s 16ms/step - loss: 0.0038 - accuracy: 0.9993\n",
      "Epoch 48/50\n",
      "3116/3116 [==============================] - 48s 15ms/step - loss: 0.0037 - accuracy: 0.9993\n",
      "Epoch 49/50\n",
      "3116/3116 [==============================] - 48s 15ms/step - loss: 0.0038 - accuracy: 0.9993\n",
      "Epoch 50/50\n",
      "3116/3116 [==============================] - 47s 15ms/step - loss: 0.0051 - accuracy: 0.9990\n",
      "2671/2671 [==============================] - 21s 6ms/step - loss: 0.0055 - accuracy: 0.9988\n"
     ]
    },
    {
     "name": "stderr",
     "output_type": "stream",
     "text": [
      "2024/10/29 15:28:51 WARNING mlflow.tensorflow: You are saving a TensorFlow Core model or Keras model without a signature. Inference with mlflow.pyfunc.spark_udf() will not work unless the model's pyfunc representation accepts pandas DataFrames as inference inputs.\n"
     ]
    },
    {
     "name": "stdout",
     "output_type": "stream",
     "text": [
      "INFO:tensorflow:Assets written to: /tmp/tmphkk_wsm2/model/data/model/assets\n"
     ]
    },
    {
     "name": "stderr",
     "output_type": "stream",
     "text": [
      "INFO:tensorflow:Assets written to: /tmp/tmphkk_wsm2/model/data/model/assets\n",
      "2024/10/29 15:30:43 WARNING mlflow.models.model: Model logged without a signature and input example. Please set `input_example` parameter when logging the model to auto infer the model signature.\n"
     ]
    },
    {
     "name": "stdout",
     "output_type": "stream",
     "text": [
      "RNN_Model_credit_data: RNN Accuracy = 0.9988413453102112, Loss = 0.005543490406125784\n"
     ]
    },
    {
     "data": {
      "text/plain": [
       "<keras.src.engine.sequential.Sequential at 0x7344e805d810>"
      ]
     },
     "execution_count": 3,
     "metadata": {},
     "output_type": "execute_result"
    }
   ],
   "source": [
    "import mlflow\n",
    "import mlflow.keras\n",
    "from tensorflow.keras.models import Sequential\n",
    "from tensorflow.keras.layers import SimpleRNN, Dense\n",
    "from sklearn.metrics import accuracy_score\n",
    "\n",
    "def train_rnn_model(X_train, y_train, X_test, y_test, run_name):\n",
    "    with mlflow.start_run(run_name=run_name):\n",
    "        # Define the RNN model\n",
    "        rnn_model = Sequential([\n",
    "            SimpleRNN(50, input_shape=(X_train.shape[1], 1), activation='relu'),\n",
    "            Dense(1, activation='sigmoid')\n",
    "        ])\n",
    "        \n",
    "        rnn_model.compile(optimizer='adam', loss='binary_crossentropy', metrics=['accuracy'])\n",
    "        rnn_model.fit(X_train, y_train, epochs=50, batch_size=64, verbose=1)\n",
    "        \n",
    "        rnn_loss, rnn_acc = rnn_model.evaluate(X_test, y_test)\n",
    "        \n",
    "        # Log metrics\n",
    "        mlflow.log_metric(\"accuracy\", rnn_acc)\n",
    "        mlflow.log_metric(\"loss\", rnn_loss)\n",
    "        \n",
    "        # Log model\n",
    "        mlflow.keras.log_model(rnn_model, \"RNN_model\")\n",
    "        \n",
    "        print(f\"{run_name}: RNN Accuracy = {rnn_acc}, Loss = {rnn_loss}\")\n",
    "    return rnn_model\n",
    "\n",
    "# Train on the fraud dataset\n",
    "X_train_1_reshaped = X_train_1.values.reshape(-1, X_train_1.shape[1], 1)\n",
    "X_test_1_reshaped = X_test_1.values.reshape(-1, X_test_1.shape[1], 1)\n",
    "train_rnn_model(X_train_1_reshaped, y_train_1, X_test_1_reshaped, y_test_1, \"RNN_Model_fraud_data\")\n",
    "\n",
    "# Fine-tune on the credit dataset\n",
    "X_train_2_reshaped = X_train_2.values.reshape(-1, X_train_2.shape[1], 1)\n",
    "X_test_2_reshaped = X_test_2.values.reshape(-1, X_test_2.shape[1], 1)\n",
    "train_rnn_model(X_train_2_reshaped, y_train_2, X_test_2_reshaped, y_test_2, \"RNN_Model_credit_data\")\n"
   ]
  },
  {
   "cell_type": "code",
   "execution_count": null,
   "id": "887ce887-a8d8-4a51-a85a-92ca382e0af5",
   "metadata": {},
   "outputs": [],
   "source": []
  }
 ],
 "metadata": {
  "kernelspec": {
   "display_name": "Anaconda Environment",
   "language": "python",
   "name": "anaconda_env"
  },
  "language_info": {
   "codemirror_mode": {
    "name": "ipython",
    "version": 3
   },
   "file_extension": ".py",
   "mimetype": "text/x-python",
   "name": "python",
   "nbconvert_exporter": "python",
   "pygments_lexer": "ipython3",
   "version": "3.11.7"
  }
 },
 "nbformat": 4,
 "nbformat_minor": 5
}
