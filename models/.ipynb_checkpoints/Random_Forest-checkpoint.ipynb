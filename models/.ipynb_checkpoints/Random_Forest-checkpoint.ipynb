{
 "cells": [
  {
   "cell_type": "code",
   "execution_count": 1,
   "id": "2229bfb1-5c80-45a9-86d4-1bc06b8b075e",
   "metadata": {},
   "outputs": [],
   "source": [
    "import data_prep"
   ]
  },
  {
   "cell_type": "code",
   "execution_count": 2,
   "id": "2785c961-883d-4ded-b87a-ced6a3c6afe3",
   "metadata": {},
   "outputs": [],
   "source": [
    "from data_prep import X_train_1, X_test_1, y_train_1, y_test_1, X_train_2, X_test_2, y_train_2, y_test_2"
   ]
  },
  {
   "cell_type": "code",
   "execution_count": null,
   "id": "2d98e7fc-d977-4eeb-97b7-f0800be89a78",
   "metadata": {},
   "outputs": [
    {
     "name": "stderr",
     "output_type": "stream",
     "text": [
      "2024/10/30 14:04:41 WARNING mlflow.utils.environment: Encountered an unexpected error while inferring pip requirements (model URI: /tmp/tmplvjoywqd/model/model.pkl, flavor: sklearn). Fall back to return ['scikit-learn==1.5.1', 'cloudpickle==2.2.1']. Set logging level to DEBUG to see the full traceback. \n"
     ]
    }
   ],
   "source": [
    "import mlflow\n",
    "import mlflow.sklearn\n",
    "from sklearn.ensemble import RandomForestClassifier\n",
    "from sklearn.metrics import accuracy_score, f1_score\n",
    "from mlflow.models.signature import infer_signature\n",
    "\n",
    "def train_model(X_train, X_test, y_train, y_test):\n",
    "    with mlflow.start_run(run_name=\"Random Forest - Training on fraud_data\"):\n",
    "        rf_model = RandomForestClassifier(random_state=42)\n",
    "        rf_model.fit(X_train, y_train)\n",
    "        \n",
    "        y_pred = rf_model.predict(X_test)\n",
    "        \n",
    "        accuracy = accuracy_score(y_test, y_pred)\n",
    "        f1 = f1_score(y_test, y_pred)\n",
    "        \n",
    "        mlflow.log_metric(\"accuracy\", accuracy)\n",
    "        mlflow.log_metric(\"f1_score\", f1)\n",
    "        \n",
    "        signature = infer_signature(X_train, y_pred)\n",
    "        mlflow.sklearn.log_model(rf_model, \"random_forest\", signature=signature, input_example=X_train.head(5))\n",
    "        \n",
    "        print(f\"Train on fraud_Data: Accuracy = {accuracy}, F1 Score = {f1}\")\n",
    "    \n",
    "    return rf_model\n",
    "\n",
    "# a function to fine-tune the model on the credit dataset\n",
    "def finetune_model(initial_model, X_train, X_test, y_train, y_test):\n",
    "    with mlflow.start_run(run_name=\"Random Forest - Fine-Tuning on credit_Dataset\"):\n",
    "        initial_model.fit(X_train, y_train)\n",
    "        \n",
    "        y_pred = initial_model.predict(X_test)\n",
    "        \n",
    "        accuracy = accuracy_score(y_test, y_pred)\n",
    "        f1 = f1_score(y_test, y_pred)\n",
    "        \n",
    "        mlflow.log_metric(\"accuracy\", accuracy)\n",
    "        mlflow.log_metric(\"f1_score\", f1)\n",
    "        \n",
    "        signature = infer_signature(X_train, y_pred)\n",
    "        mlflow.sklearn.log_model(initial_model, \"random_forest_finetuned_model\", signature=signature, input_example=X_train.head(5))\n",
    "        \n",
    "        print(f\"Fine-Tuning -credit_Data : Accuracy = {accuracy}, F1 Score = {f1}\")\n",
    "\n",
    "\n",
    "initial_model = train_model(X_train_1, X_test_1, y_train_1, y_test_1)\n",
    "finetune_model(initial_model, X_train_2, X_test_2, y_train_2, y_test_2)\n"
   ]
  }
 ],
 "metadata": {
  "kernelspec": {
   "display_name": "Anaconda Environment",
   "language": "python",
   "name": "anaconda_env"
  },
  "language_info": {
   "codemirror_mode": {
    "name": "ipython",
    "version": 3
   },
   "file_extension": ".py",
   "mimetype": "text/x-python",
   "name": "python",
   "nbconvert_exporter": "python",
   "pygments_lexer": "ipython3",
   "version": "3.11.7"
  }
 },
 "nbformat": 4,
 "nbformat_minor": 5
}
